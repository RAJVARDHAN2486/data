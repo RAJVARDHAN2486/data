{
 "cells": [
  {
   "cell_type": "code",
   "execution_count": 1,
   "id": "8c4e69dd-dacc-46e1-af34-4a62fbb6d9ea",
   "metadata": {},
   "outputs": [],
   "source": [
    "from joblib import dump , load\n",
    "import numpy as np\n",
    "model = load('Dragon.joblib')"
   ]
  },
  {
   "cell_type": "code",
   "execution_count": 6,
   "id": "419e4fe9-55e3-437b-a596-02a478ec8a87",
   "metadata": {},
   "outputs": [
    {
     "data": {
      "text/plain": [
       "array([20.272])"
      ]
     },
     "execution_count": 6,
     "metadata": {},
     "output_type": "execute_result"
    }
   ],
   "source": [
    "features = np.array([[-0.42479892, -0.48833462, -0.4057542 , -0.27216553, -0.32957792,\n",
    "       0.15999111187,  0.75460226, -0.63223739, -0.54220807, -0.16380928,\n",
    "        1.13392801,  0.41163816, -0.05845789]])\n",
    "model.predict(features)"
   ]
  },
  {
   "cell_type": "code",
   "execution_count": null,
   "id": "7a270867-7941-4fa6-bd27-5c4013c6905e",
   "metadata": {},
   "outputs": [],
   "source": []
  }
 ],
 "metadata": {
  "kernelspec": {
   "display_name": "Python 3 (ipykernel)",
   "language": "python",
   "name": "python3"
  },
  "language_info": {
   "codemirror_mode": {
    "name": "ipython",
    "version": 3
   },
   "file_extension": ".py",
   "mimetype": "text/x-python",
   "name": "python",
   "nbconvert_exporter": "python",
   "pygments_lexer": "ipython3",
   "version": "3.11.0"
  }
 },
 "nbformat": 4,
 "nbformat_minor": 5
}
